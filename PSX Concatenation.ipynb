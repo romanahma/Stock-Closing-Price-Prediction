{
 "cells": [
  {
   "cell_type": "code",
   "execution_count": 2,
   "metadata": {},
   "outputs": [],
   "source": [
    "import numpy as  np \n",
    "import pandas as pd \n",
    "import os"
   ]
  },
  {
   "cell_type": "code",
   "execution_count": 3,
   "metadata": {},
   "outputs": [
    {
     "name": "stdout",
     "output_type": "stream",
     "text": [
      "All CSV files have been read and combined into final_dataset.csv\n"
     ]
    }
   ],
   "source": [
    "main_dir = \"PSX DONE\"\n",
    "dfs = []\n",
    "for sector_folder in os.listdir(main_dir):\n",
    "    sector_path = os.path.join(main_dir,sector_folder)\n",
    "    if os.path.isdir(sector_path):\n",
    "        for file in os.listdir(sector_path):\n",
    "            file_path = os.path.join(sector_path,file)\n",
    "            df = pd.read_csv(file_path)\n",
    "            df['Sector'] = sector_folder\n",
    "            df['Company'] = file.replace('.csv','')\n",
    "            dfs.append(df)\n",
    "            \n",
    "final_df = pd.concat(dfs, ignore_index=True)\n",
    "\n",
    "# Save the final dataframe to a new CSV file\n",
    "final_df.to_csv('final_data.csv', index=False)\n",
    "\n",
    "print(\"All CSV files have been read and combined into final_dataset.csv\")\n"
   ]
  },
  {
   "cell_type": "code",
   "execution_count": 18,
   "metadata": {},
   "outputs": [],
   "source": [
    "import pandas as pd\n",
    "\n",
    "\n",
    "def clean_data(df):\n",
    "  # Drop all columns starting with 'Unnamed' and columns with all null values\n",
    "  final_df.drop(df.filter(like='Unnamed'), axis=1, inplace=True)\n",
    "  final_df.dropna(axis=1, how='all', inplace=True)\n",
    "\n",
    "  # Drop specific columns (if needed)\n",
    "  drop_cols = ['symbol', 'name', 'sectorName', 'isETF', 'isDebt', 'isGEM']\n",
    "  final_df.drop(drop_cols, axis=1, inplace=True)\n",
    "\n",
    "  return df\n",
    "\n",
    "df = clean_data(final_df.copy())  # Avoid modifying original DataFrame\n",
    "dfs.append(final_df)"
   ]
  },
  {
   "cell_type": "code",
   "execution_count": 20,
   "metadata": {
    "scrolled": true
   },
   "outputs": [
    {
     "data": {
      "text/plain": [
       "Date       842\n",
       "Open       842\n",
       "High       842\n",
       "Low        842\n",
       "Close      842\n",
       "Volume     842\n",
       "Sector       0\n",
       "Company      0\n",
       "dtype: int64"
      ]
     },
     "execution_count": 20,
     "metadata": {},
     "output_type": "execute_result"
    }
   ],
   "source": [
    "final_df.isnull().sum()"
   ]
  },
  {
   "cell_type": "code",
   "execution_count": 21,
   "metadata": {},
   "outputs": [],
   "source": [
    "final_df.dropna(axis=0, inplace=True)"
   ]
  },
  {
   "cell_type": "code",
   "execution_count": 23,
   "metadata": {},
   "outputs": [
    {
     "data": {
      "text/plain": [
       "Date       0\n",
       "Open       0\n",
       "High       0\n",
       "Low        0\n",
       "Close      0\n",
       "Volume     0\n",
       "Sector     0\n",
       "Company    0\n",
       "dtype: int64"
      ]
     },
     "execution_count": 23,
     "metadata": {},
     "output_type": "execute_result"
    }
   ],
   "source": [
    "final_df.isnull().sum()"
   ]
  },
  {
   "cell_type": "code",
   "execution_count": 22,
   "metadata": {},
   "outputs": [
    {
     "name": "stdout",
     "output_type": "stream",
     "text": [
      "\n",
      "After cleaning:\n",
      "Total rows: 1625138\n",
      "Total columns: 8\n"
     ]
    }
   ],
   "source": [
    "print(\"\\nAfter cleaning:\")\n",
    "print(f\"Total rows: {len(final_df)}\")\n",
    "print(f\"Total columns: {len(final_df.columns)}\")"
   ]
  },
  {
   "cell_type": "code",
   "execution_count": 24,
   "metadata": {},
   "outputs": [],
   "source": [
    "final_df.to_csv('final_dataframe.csv', index=False)  # Optional: index=False to exclude index column"
   ]
  },
  {
   "cell_type": "code",
   "execution_count": null,
   "metadata": {},
   "outputs": [],
   "source": []
  },
  {
   "cell_type": "code",
   "execution_count": 11,
   "metadata": {},
   "outputs": [
    {
     "data": {
      "text/plain": [
       "['AI Project-20240520T174625Z-001',\n",
       " 'AI Project-20240520T174625Z-001.zip',\n",
       " 'final_dataset.csv',\n",
       " 'PSX',\n",
       " 'PSX.ZIP']"
      ]
     },
     "execution_count": 11,
     "metadata": {},
     "output_type": "execute_result"
    }
   ],
   "source": [
    "os.listdir('E:\\dataScience\\PSX prediction project')"
   ]
  },
  {
   "cell_type": "code",
   "execution_count": null,
   "metadata": {},
   "outputs": [],
   "source": []
  }
 ],
 "metadata": {
  "kernelspec": {
   "display_name": "Python 3 (ipykernel)",
   "language": "python",
   "name": "python3"
  },
  "language_info": {
   "codemirror_mode": {
    "name": "ipython",
    "version": 3
   },
   "file_extension": ".py",
   "mimetype": "text/x-python",
   "name": "python",
   "nbconvert_exporter": "python",
   "pygments_lexer": "ipython3",
   "version": "3.11.5"
  }
 },
 "nbformat": 4,
 "nbformat_minor": 2
}

